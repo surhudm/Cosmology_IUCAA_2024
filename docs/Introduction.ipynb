{
 "cells": [
  {
   "cell_type": "code",
   "execution_count": 1,
   "metadata": {},
   "outputs": [],
   "source": [
    "from IPython.display import Image\n",
    "from IPython.display import Video, HTML, YouTubeVideo\n",
    "width = 600"
   ]
  },
  {
   "cell_type": "markdown",
   "metadata": {},
   "source": [
    "# Introduction to Cosmology"
   ]
  },
  {
   "cell_type": "markdown",
   "metadata": {},
   "source": [
    "Cosmology is the study of the Universe as a whole, its origin, its history and its future. Humans have long wanted to know answers to questions such as\n",
    "\n",
    "- How old is mankind?\n",
    "- What are we made up of?\n",
    "- How did we come into existence?\n",
    "- What is the fate of mankind?\n",
    "\n",
    "A number of philosophers and religions have attempted to address these questions. Over time we have learnt to express these questions in a more scientific manner. The focus has now shifted from human beings to the Universe and so the questions have changed a bit, but have grown in their scope.\n",
    "\n",
    "In cosmology, we try to answer questions such as\n",
    "\n",
    "- How old is the Universe?\n",
    "- What is it made up of?\n",
    "- How did the Universe come into existence?\n",
    "- What is the long term fate of the Universe?\n",
    "\n",
    "We can now attempt to answer each of these questions scientifically. Progress is often tedious, but the most important thing that has changed over the past century is the availability of observational data. "
   ]
  },
  {
   "cell_type": "markdown",
   "metadata": {},
   "source": [
    "## Early attempts at Cosmology\n",
    "\n",
    "The initial cosmological theories talked about the Sun, Moon and stars, the relationships of these heavenly bodies to one another. These are the simplest observations that you can make. Every night you see the stars and the planets move in the sky as time passes, in the same way that the Sun moves around in the sky during day time. The simplest model that comes to mind is that of the Earth at the centre of the Universe with the Sun, the Moon, stars and planets moving around on celestial circles (geocentric model). However as one makes more and more meticulous observations, a number of new patterns emerge. The planets move within the fixed pattern of stars, the location of stars at the same time is slightly different every night.\n",
    "\n",
    "Explaining these ever increasing complex patterns becomes more and more difficult until you realize that the explanation of the patterns simplify greatly if you consider the Sun to be at the centre with all the planets including the Earth going around the Sun (heliocentric model). These realizations and progress did not happen instantaneously and often involved scientists who were running against prevalent beliefs.\n",
    "\n",
    "As observational technology has improved, our knowledge of the Universe extended to stars in our own Milky way. Herschel was one of the firsts to map out the stars and understand the structure of the Milky way. In those days the Sun was kept at the centre of the galaxy, but further observations in the form of distance to these stars indicated that this is also not the case. \n",
    "\n",
    "With bigger and better telescopes, astronomers were able to identify nebulous objects in the sky. There was a big and intense debate in the early decades of the 20th century whether such nebulae lie wihtin the the galaxy or beyond. This debate was settled in the early 1920s with the observations of variable stars in the outskirts of these nebulae which put their distances even beyond the farthest extents of our galaxy. It was realized that these nebulae, now known as galaxies, formed separate islands of stars. \n",
    "\n",
    "Cosmology today has the ambitous goal of understanding this extragalactic Universe composed of billions of galaxies many of which are millions to billions of light years away. Understanding their dynamical behaviour as a whole, their large scale structure, their birth and evolution, forms an integral part of cosmology today.\n",
    "\n",
    "## Cosmological observations\n",
    "\n",
    "There are many similarities to some of this history in the current development of cosmology. Cosmology today is heavily driven and shaped by observations. As newer and newer observations are made, theories have to be supplemented with extra parameters (some more justified than the other). Theories in turn make predictions which can then be further tested with observations.\n",
    "\n",
    "### Hubble's discovery of the expansion of the Universe\n",
    "\n",
    "One of the most important observations in the 1920s that made a significant advance in our understanding of the Universe was made by Hubble and independently by Slipher. In addition to the discovery of extragalactic nebulae based on distances, Hubble measured the radial velocities of these galaxies using spectroscopic observations. He found out that the galaxies are receding away from us with velocities that are proportional to the physical distances to these galaxies. These velocities were measured with redshifts of known emission and absorption lines. This observation profoundly changed our world view. Until then, the Universe was considered to be static. All cosmologists, including Einstein were attempting to build a static model for the Universe. This shows how important observations are to inform theoretical models.\n",
    "\n",
    "A variety of observations support the standard model of cosmology - the distance redshift relations measured using a variety of techniques such as Supernovae of Type Ia, Baryon acoustic oscillations, the cosmic microwave background, the growth of large scale structure measured using the clustering of galaxies, the growth of galaxy clusters through cosmic time and the mapping of matter in the Universe via gravitational lensing. Each of these observations are helping us to piece together the puzzle of the Universe. \n",
    "\n",
    "We will touch upon these subjects in the course."
   ]
  }
 ],
 "metadata": {
  "kernelspec": {
   "display_name": "Python 3 (ipykernel)",
   "language": "python",
   "name": "python3"
  },
  "language_info": {
   "codemirror_mode": {
    "name": "ipython",
    "version": 3
   },
   "file_extension": ".py",
   "mimetype": "text/x-python",
   "name": "python",
   "nbconvert_exporter": "python",
   "pygments_lexer": "ipython3",
   "version": "3.10.8"
  }
 },
 "nbformat": 4,
 "nbformat_minor": 4
}
