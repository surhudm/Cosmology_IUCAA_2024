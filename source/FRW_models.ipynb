{
 "cells": [
  {
   "cell_type": "markdown",
   "metadata": {},
   "source": [
    "# Friedmann Robertson Walker models\n",
    "\n",
    "In this section, we will take a look at some consequences of the Friedmann Robertson Walker metric that we derived for a homogeneous and isotropic Universe. \n",
    "\n",
    "## Redshifts in an expanding Universe\n",
    "\n",
    "Light travels on null geodesics, and they satisfy $ds^2=0$ . Let us consider the position of our galaxy to be at the origin as a convenience. Let us look at a galaxy whose coordinates are ($\\chi, \\theta, \\phi$). The light coming from this galaxy will travel along constant values of ($\\theta, \\phi$) on its path to us. Thus it should satisfy\n",
    "\n",
    "$ds^2=0=-c^2 dt^2 + a^2(t) d\\chi^2$\n",
    "\n",
    "which implies that\n",
    "\n",
    "\\begin{equation}\n",
    "\\int_{t_e}^{t_r} \\frac{c dt}{a(t)} = -\\int_{0}^{\\chi} d\\chi \n",
    "\\end{equation}\n",
    "\n",
    "where $t_e$ denotes the time of emission, $t_r$ denotes the time of receipt of the photon. Now let us consider the emission and reception of a consecutive crest of the light wave. Let us suppose this second crest gets emitted at $t_e + \\delta t_e$, and will be received $t_r + \\delta t_r$. This implies that for this second crest, \n",
    "\n",
    "\\begin{equation}\n",
    "\\int_{t_e+\\delta t_e}^{t_r + \\delta t_r} \\frac{c dt}{a(t)} = -\\int_{0}^{\\chi} d\\chi \n",
    "\\end{equation}\n",
    "\n",
    "Subtracting the above equations we get\n",
    "\n",
    "\\begin{equation}\n",
    "\\frac{c \\delta t_e}{a(t_e)} -  \\frac{c \\delta t_r}{a(t_r)}= 0\n",
    "\\end{equation}\n",
    "\n",
    "Given that $\\lambda_e = c\\delta t_e$ and $\\lambda_r = c\\delta t_r$, are the wavelengths of the emitted and received light, we obtain\n",
    "\n",
    "\\begin{equation}\n",
    "\\frac{\\lambda_r}{\\lambda_e} = 1+z = \\frac{a(t_r)}{a(t_e)}\n",
    "\\end{equation}\n",
    "\n",
    "This implies that the wavelength of light changes as it travels in a Universe with varying scale factor. If $a(t)$ is an increasing function of time then this implies that the wavelength of the received light will be redshifted compared to when the light was emitted.\n",
    "\n",
    "## Expansion of the Universe (Hubble-Lemaitre's law)\n",
    "\n",
    "The FRW metric implies that the physical distances in the Universe scale with the scale factor. We can define mean motion coordinates  which move together in a concerted manner due to the change in scale factor. Such coordinates are called comoving coordinates. The physical distance between any two locations at a given point of time is thus given by $R_{\\rm phys} = a(t) R_{\\rm com}$ . The velocity between any two objects is then given by the rate of change of the physical distance\n",
    "\n",
    "\\begin{eqnarray}\n",
    "v = \\frac{d R_{\\rm phys}}{dt} &=& \\frac{d \\left[ a(t) R_{\\rm com} \\right]}{dt} \\\\\n",
    "&=&  \\frac{da}{dt} R_{\\rm com} + a(t) \\frac{d R_{\\rm com}}{dt} \\\\\n",
    "&=& \\frac{\\dot{a}}{a} R_{\\rm phys} + a(t) \\frac{d R_{\\rm com}}{dt}\n",
    "\\end{eqnarray}\n",
    "\n",
    "For fundamental observers at fixed locations in the comoving coordinates, the second term would be zero. This gives\n",
    "\n",
    "\\begin{equation}\n",
    "v = \\left[\\frac{\\dot{a}}{a}\\right] R_{\\rm phys}\n",
    "\\end{equation}\n",
    "\n",
    "This shows that the velocities should be proportional to the physical distance of galaxies. The constant of proportionality $\\dot{a}/a$ is called the Hubble-Lemaitre parameter. Note that $\\dot{a}/a$ is a function of time, the value at $t={\\rm today}$ is called the Hubble-Lemaitre constant.\n",
    "\n",
    "In reality galaxies will not necessarily sit still in comoving coordinates due to forces from other objects nearby. These velocities are called peculiar velocities and are a result of the small scale inhomogeneities in the Universe.\n",
    "\n",
    "The measurement of the Hubble Lemaitre constant is one of the biggest scientific inquiries currently. The value that Hubble derived in the 1920s was about $500$ ${\\rm km/s/Mpc}$. It was marred by observational issues. The current accepted value for the Hubble constant ranges from $67$ to $74$ ${\\rm km/s/Mpc}$.\n",
    "\n",
    "The units of the Hubble-Lemaitre constant are the inverse of the timescale. Thus the Hubble-Lemaitre constant sets a time scale in the Universe. The value of $1/H_0$ sets the order of magnitude for the timescale for the Universe. With the value of about $70$ ${\\rm km/s/Mpc}$, you get a value which is close to $1.46\\times10^{10}$ years.\n",
    "\n",
    "\n",
    "## Distances in the Universe\n",
    "\n",
    "### Angular size of a distant object of known physical size\n",
    "\n",
    "Consider the angle subtended at the observer by a known object of physical size $R_{\\rm phys}$ at a coordinate distance $\\chi$. Let us assume that the two ends of the object are aligned at constant angle $\\phi$. Thus in the metric we have $dt=0$, $d\\chi=0$ and $d\\phi=0$. The metric is then given by\n",
    "\n",
    "\\begin{equation}\n",
    "ds^2 = a^2(t) f^2(\\chi) d\\theta^2\n",
    "\\end{equation}\n",
    "\n",
    "The physical size of the object $R_{\\rm phys}=a(t) f(\\chi) \\Delta \\theta$. We can define a distance based on the angular size subtended by such an object as the angular diameter distance.\n",
    "\n",
    "\\begin{equation}\n",
    "D_{\\rm ang} = \\frac{R_{\\rm phys}}{\\Delta\\theta} = a(t) f(\\chi) = \\frac{f(\\chi)}{(1+z)}\n",
    "\\end{equation}\n",
    "\n",
    "<div class=\"alert alert-info \">\n",
    "    \n",
    "Exercise:\n",
    "\n",
    "- Can you compute the physical area of a sphere centred at the observer, but whose surface lies at a coordinate distance $\\chi$ away from the observer?\n",
    "- Can you define the two dimensional analog of this problem on the surface of a sphere?\n",
    "- Can you compute the comoving coordinate volume of a sphere centered at the origin with radius given by the coordinate $\\chi$?\n",
    "    \n",
    "</div>\n",
    "\n",
    "### Flux received from a distant source\n",
    "\n",
    "Let us now consider the flux received from a distant source in the Universe, which has an intrinsic bolometric luminosity $L$ (i.e., integrated over all wavelengths). We can write the luminosity emitted per unit wavelength as\n",
    "\n",
    "\\begin{equation}\n",
    "dL = L I(\\lambda) d\\lambda\n",
    "\\end{equation}\n",
    "\n",
    "where \n",
    "\n",
    "\\begin{equation}\n",
    "\\int I(\\lambda) d\\lambda = 1\n",
    "\\end{equation}\n",
    "\n",
    "Remember luminosity is the energy emitted per unit time. The number of photons emitted per unit wavelength $\\lambda_e$ in a time $\\delta t_e$ are given by\n",
    "\n",
    "\\begin{equation}\n",
    "dN(\\lambda_e) = dL \\delta t_e \\frac{\\lambda_e}{hc} = L \\frac{\\lambda_e}{hc} I(\\lambda_e) d\\lambda_e \\delta t_e\n",
    "\\end{equation}\n",
    "\n",
    "The light emitted from the source will reach a sphere at coordinate $\\chi$ after time $t$. The spacetime metric for constant time and constant $\\chi$ value is given by $ds^2 = a^2(t) f^2(\\chi) [d\\theta^2 + \\sin^2\\theta d\\phi^2]$ which is the line element on the surface of a sphere with radius $a^2(t) f^2(\\chi)$. The surface area of this sphere is given by\n",
    "\n",
    "\\begin{equation}\n",
    "\\int a^2(t_r) f^2(\\chi) d\\cos\\theta d\\phi = 4 \\pi a^2(t_r) f^2(\\chi) \n",
    "\\end{equation}\n",
    "\n",
    "We observe these photons today, thus $a^2(t_r)=1$ by definition of the coordinate system to define lengths. The number of photons received per unit wavelength $\\lambda_r$ over the entire surface of the sphere is given by\n",
    "\n",
    "\\begin{equation}\n",
    "dN_r(\\lambda_r) = dN_e\\left( \\frac{\\lambda_r}{(1+z)}\\right) = L \\frac{\\lambda_r}{(1+z)hc} I \\left( \\frac{\\lambda_r}{1+z} \\right) \\frac{d\\lambda_r}{(1+z)} \\delta t_e\n",
    "\\end{equation}\n",
    "\n",
    "Here we have used the fact that the wavelength changes as time goes on in the Universe. Now these photons will be received in an interval of time $\\delta t_r$ as we saw in the derivation in the first section. Thus the amount of energy that passes through the sphere in a unit time interval is given by\n",
    "\n",
    "\\begin{equation}\n",
    "\\frac{dN_r(\\lambda_r)}{\\delta t_r} \\frac{hc}{\\lambda_r} = L \\frac{1}{(1+z)} I \\left( \\frac{\\lambda_r}{1+z} \\right) \\frac{d\\lambda_r}{(1+z)} \\frac{\\delta t_e}{\\delta t_r}\n",
    "\\end{equation}\n",
    "\n",
    "The flux $F(\\lambda_r) d\\lambda_r$ is the amount of energy received per unit time per unit area perpendicular to the line of sight to the source. Thus $F(\\lambda_r) d\\lambda_r$ should be equal to\n",
    "\n",
    "\\begin{eqnarray}\n",
    "F(\\lambda_r) d\\lambda_r &=& \\frac{dN_r(\\lambda_r)}{\\delta t_r} \\frac{hc}{\\lambda_r} \\frac{1}{4\\pi f^2(\\chi) a^2(t_r)} \\\\\n",
    "&=&  \\frac{L}{(1+z)} I \\left( \\frac{\\lambda_r}{1+z} \\right) \\frac{d\\lambda_r}{(1+z)} \\frac{\\delta t_e}{\\delta t_r} \\frac{1}{4\\pi f^2(\\chi) } \\\\\n",
    "&=& \\frac{L}{(1+z)^2} I \\left( \\frac{\\lambda_r}{1+z} \\right) d\\lambda_r \\frac{\\delta t_e}{\\delta t_r} \\frac{1}{4\\pi f^2(\\chi) } \\\\\n",
    "&=& \\frac{L}{(1+z)^3} I \\left( \\frac{\\lambda_r}{1+z} \\right) d\\lambda_r \\frac{1}{4\\pi f^2(\\chi)}\n",
    "\\end{eqnarray}\n",
    "\n",
    "The total bolometric flux is given by the integral over all wavelengths and therefore\n",
    "\n",
    "\\begin{equation}\n",
    "F_{\\rm bol} = \\int F(\\lambda_r) d\\lambda_r = \\frac{L_{\\rm bol}}{(1+z)^2 4\\pi f^2(\\chi)} = \\frac{L_{\\rm bol}}{4\\pi D_{\\rm lum}^2(\\chi)}\n",
    "\\end{equation}\n",
    "\n",
    "This can be intuitively understood as all photons lose energy and arrive at stretched out intervals as the Universe expands. The luminosity distance defined by the last equality is thus given by\n",
    "\\begin{equation}\n",
    "D_{\\rm lum}(\\chi) = (1+z) f(\\chi)\n",
    "\\end{equation}\n",
    "\n",
    "## Dynamics of the Friedmann Robertson Walker metric\n",
    "\n",
    "Now let us try to understand how the scale factor of the Universe changes as a function of time. The equations of General Relativity govern the dynamics in the Universe. \n",
    "\\begin{equation}\n",
    "G_{\\mu\\nu} = \\frac{8 \\pi G}{c^4} T_{\\mu\\nu}\n",
    "\\end{equation}\n",
    "where $G_{\\mu\\nu}$ is the Einstein tensor, and $T_{\\mu\\nu}$ is the energy momentum tensor of the Universe. The left hand side of the equation concerns the metric and its derivatives. So this can be computed based on the metric components that we have derived heuristically above. \n",
    "\n",
    "We consider the coordinates to be $ct, \\chi, \\theta, \\phi$ as $0, 1, 2, 3$:\n",
    "\\begin{equation}\n",
    "g_{\\mu \\nu} = \n",
    "\\begin{pmatrix}\n",
    "-1 & 0 & 0 & 0 \\\\\n",
    "0  & a^2(t) & 0 & 0 \\\\\n",
    "0  & 0 & a^2(t)f^2(\\chi)  & 0 \\\\\n",
    "0  & 0 & 0 & a^2(t)f^2(\\chi)\\sin^2(\\theta) \n",
    "\\end{pmatrix} \n",
    "\\end{equation}"
   ]
  },
  {
   "cell_type": "markdown",
   "metadata": {},
   "source": [
    "One can compute the Christoffel symbols for this metric using their definition\n",
    "\n",
    "\\begin{equation}\n",
    "\\Gamma^i_{kl} = \\frac{1}{2}g^{im}\\left[ g_{mk,l} + g_{ml,k} - g_{kl,m} \\right]\n",
    "\\end{equation}\n",
    "\n",
    "<div class=\"alert alert-info \">\n",
    "    \n",
    "Exercise:\n",
    "\n",
    "- Show that $\\Gamma^{0}_{\\mu\\nu} = \\frac{1}{2}g_{\\mu\\nu,0}$.\n",
    "    \n",
    "</div>\n",
    "\n",
    "Then we can use these Christoffel symbols derived from the metric to compute the Riemann tensor\n",
    "\n",
    "\\begin{equation}\n",
    "R^{\\rho}{}_{\\sigma\\mu\\nu} = \\partial_\\mu \\Gamma^{\\rho}_{\\nu\\sigma} - \\partial_{\\nu} \\Gamma^\\rho_{\\mu\\sigma}  + \\Gamma^\\rho_{\\mu\\lambda} \\Gamma^\\lambda_{\\nu\\sigma} - \\Gamma^\\rho_{\\nu\\lambda} \\Gamma^\\lambda_{\\mu\\sigma}\n",
    "\\end{equation}\n",
    "\n",
    "The Riemann tensor can then be contracted to obtain the Ricci tensor by taking a trace\n",
    "\n",
    "\\begin{equation}\n",
    "R_{\\mu\\nu} = R^\\lambda{}_{\\mu\\lambda\\nu}\n",
    "\\end{equation}\n",
    "\n",
    "and the Ricci scalar to obtain\n",
    "\n",
    "\\begin{equation}\n",
    "R = g^{\\mu\\nu}R_{\\mu\\nu}\n",
    "\\end{equation}\n",
    "\n",
    "These components can be finally combined to obtain the Einstein tensor\n",
    "\n",
    "\\begin{equation}\n",
    "G_{\\mu\\nu} = R_{\\mu\\nu} - \\frac{1}{2}R g_{\\mu\\nu}\n",
    "\\end{equation}\n",
    "\n",
    "All of these involve tedious but straightforward mathematics and we will just quote the final results here:\n",
    "\n",
    "\\begin{eqnarray}\n",
    "G_{00} = 3 \\left(\\frac{\\dot{a}}{a} \\right)^2 + 3\\frac{kc^2}{a^2} \\\\\n",
    "G_{ij} = - \\left( 2\\frac{\\ddot{a}}{a}  + \\left[\\frac{\\dot{a}}{a}\\right]^2 + \\frac{k c^2}{a^2} \\right) a^2 \\gamma_{ij}\\,,\n",
    "\\end{eqnarray}\n",
    "\n",
    "where $\\gamma_{ij}$ is the metric of the homogeneous and isotropic 3-space, i.e., $dl^2 = \\gamma_{ij}dx^{i}dx^{j}$. The other components are equal to zero. In what follows, I will show a useful way to compute these tensors in python. We will use the packages `einsteinpy` and `sympy` to carry out these tedious mathematical calculations. In your `sciserver` environment, you could install these packages by typing `%pip install --user einsteinpy` and restarting the jupyter kernel by clicking `Kernel` and then `Restart`."
   ]
  },
  {
   "cell_type": "code",
   "execution_count": 1,
   "metadata": {},
   "outputs": [],
   "source": [
    "# Import important packages\n",
    "\n",
    "import sympy\n",
    "from einsteinpy.symbolic import MetricTensor, ChristoffelSymbols, RiemannCurvatureTensor, RicciTensor, RicciScalar, EinsteinTensor\n",
    "from sympy import Function, simplify\n",
    "\n",
    "# Enable the best printing solution\n",
    "sympy.init_printing()  "
   ]
  },
  {
   "cell_type": "code",
   "execution_count": 2,
   "metadata": {},
   "outputs": [],
   "source": [
    "# Define symbols\n",
    "\n",
    "def get_metric(univ_type):\n",
    "    syms = sympy.symbols(\"t chi theta phi\")\n",
    "    t, chi, theta, phi = syms\n",
    "    a, R, c = sympy.symbols(\"a R c\")\n",
    "\n",
    "    # Initialize a 2d 4x4 array\n",
    "    list2d = [[0 for i in range(4)] for i in range(4)]\n",
    "\n",
    "    # Define the function f depending upon the type of the Universe\n",
    "    def f(x, universe):\n",
    "        if universe==\"flat\":\n",
    "            return x\n",
    "        if universe==\"closed\":\n",
    "            return sympy.sin(x)\n",
    "        if universe==\"open\":\n",
    "            return sympy.sinh(x)\n",
    "\n",
    "    # Set the diagonal elements to be g_{\\mu\\nu}\n",
    "    list2d[0][0] = -1\n",
    "    list2d[1][1] = Function(a)(t)**2 \n",
    "    list2d[2][2] = Function(a)(t)**2*(R*f(chi/R, univ_type))**2\n",
    "    list2d[3][3] = Function(a)(t)**2* (R*f(chi/R, univ_type))**2 * (sympy.sin(theta) ** 2)\n",
    "\n",
    "    # Define the metric\n",
    "    frw = MetricTensor(list2d, syms)\n",
    "\n",
    "    # Visualize the metric\n",
    "    frw.tensor()\n",
    "    \n",
    "    return frw"
   ]
  },
  {
   "cell_type": "code",
   "execution_count": 3,
   "metadata": {},
   "outputs": [],
   "source": [
    "open_metric = get_metric(\"open\")\n",
    "closed_metric = get_metric(\"closed\")\n",
    "flat_metric = get_metric(\"flat\")"
   ]
  },
  {
   "cell_type": "code",
   "execution_count": 4,
   "metadata": {},
   "outputs": [
    {
     "data": {
      "image/png": "[encoded data removed]",
      "text/latex": [
       "$\\displaystyle \\left[\\begin{matrix}-1 & 0 & 0 & 0\\\\0 & a^{2}{\\left(t \\right)} & 0 & 0\\\\0 & 0 & \\chi^{2} a^{2}{\\left(t \\right)} & 0\\\\0 & 0 & 0 & \\chi^{2} a^{2}{\\left(t \\right)} \\sin^{2}{\\left(\\theta \\right)}\\end{matrix}\\right]$"
      ],
      "text/plain": [
       "⎡-1    0       0             0        ⎤\n",
       "⎢                                     ⎥\n",
       "⎢     2                               ⎥\n",
       "⎢0   a (t)     0             0        ⎥\n",
       "⎢                                     ⎥\n",
       "⎢            2  2                     ⎥\n",
       "⎢0     0    χ ⋅a (t)         0        ⎥\n",
       "⎢                                     ⎥\n",
       "⎢                      2  2       2   ⎥\n",
       "⎣0     0       0      χ ⋅a (t)⋅sin (θ)⎦"
      ]
     },
     "execution_count": 4,
     "metadata": {},
     "output_type": "execute_result"
    }
   ],
   "source": [
    "flat_metric.tensor()"
   ]
  },
  {
   "cell_type": "code",
   "execution_count": 5,
   "metadata": {},
   "outputs": [
    {
     "data": {
      "image/png": "[encoded data removed]",
      "text/latex": [
       "$\\displaystyle \\left[\\begin{matrix}-1 & 0 & 0 & 0\\\\0 & a^{2}{\\left(t \\right)} & 0 & 0\\\\0 & 0 & R^{2} a^{2}{\\left(t \\right)} \\sinh^{2}{\\left(\\frac{\\chi}{R} \\right)} & 0\\\\0 & 0 & 0 & R^{2} a^{2}{\\left(t \\right)} \\sin^{2}{\\left(\\theta \\right)} \\sinh^{2}{\\left(\\frac{\\chi}{R} \\right)}\\end{matrix}\\right]$"
      ],
      "text/plain": [
       "⎡-1    0            0                      0            ⎤\n",
       "⎢                                                       ⎥\n",
       "⎢     2                                                 ⎥\n",
       "⎢0   a (t)          0                      0            ⎥\n",
       "⎢                                                       ⎥\n",
       "⎢            2  2        2⎛χ⎞                           ⎥\n",
       "⎢0     0    R ⋅a (t)⋅sinh ⎜─⎟              0            ⎥\n",
       "⎢                         ⎝R⎠                           ⎥\n",
       "⎢                                                       ⎥\n",
       "⎢                               2  2       2        2⎛χ⎞⎥\n",
       "⎢0     0            0          R ⋅a (t)⋅sin (θ)⋅sinh ⎜─⎟⎥\n",
       "⎣                                                    ⎝R⎠⎦"
      ]
     },
     "execution_count": 5,
     "metadata": {},
     "output_type": "execute_result"
    }
   ],
   "source": [
    "open_metric.tensor()"
   ]
  },
  {
   "cell_type": "code",
   "execution_count": 6,
   "metadata": {},
   "outputs": [
    {
     "data": {
      "image/png": "[encoded data removed]",
      "text/latex": [
       "$\\displaystyle \\left[\\begin{matrix}-1 & 0 & 0 & 0\\\\0 & a^{2}{\\left(t \\right)} & 0 & 0\\\\0 & 0 & R^{2} a^{2}{\\left(t \\right)} \\sin^{2}{\\left(\\frac{\\chi}{R} \\right)} & 0\\\\0 & 0 & 0 & R^{2} a^{2}{\\left(t \\right)} \\sin^{2}{\\left(\\theta \\right)} \\sin^{2}{\\left(\\frac{\\chi}{R} \\right)}\\end{matrix}\\right]$"
      ],
      "text/plain": [
       "⎡-1    0           0                     0            ⎤\n",
       "⎢                                                     ⎥\n",
       "⎢     2                                               ⎥\n",
       "⎢0   a (t)         0                     0            ⎥\n",
       "⎢                                                     ⎥\n",
       "⎢            2  2       2⎛χ⎞                          ⎥\n",
       "⎢0     0    R ⋅a (t)⋅sin ⎜─⎟             0            ⎥\n",
       "⎢                        ⎝R⎠                          ⎥\n",
       "⎢                                                     ⎥\n",
       "⎢                              2  2       2       2⎛χ⎞⎥\n",
       "⎢0     0           0          R ⋅a (t)⋅sin (θ)⋅sin ⎜─⎟⎥\n",
       "⎣                                                  ⎝R⎠⎦"
      ]
     },
     "execution_count": 6,
     "metadata": {},
     "output_type": "execute_result"
    }
   ],
   "source": [
    "closed_metric.tensor()"
   ]
  },
  {
   "cell_type": "code",
   "execution_count": 7,
   "metadata": {},
   "outputs": [
    {
     "data": {
      "image/png": "[encoded data removed]",
      "text/latex": [
       "$\\displaystyle \\left[\\begin{matrix}\\left[\\begin{matrix}0 & 0 & 0 & 0\\\\0 & a{\\left(t \\right)} \\frac{d}{d t} a{\\left(t \\right)} & 0 & 0\\\\0 & 0 & \\chi^{2} a{\\left(t \\right)} \\frac{d}{d t} a{\\left(t \\right)} & 0\\\\0 & 0 & 0 & \\chi^{2} a{\\left(t \\right)} \\sin^{2}{\\left(\\theta \\right)} \\frac{d}{d t} a{\\left(t \\right)}\\end{matrix}\\right] & \\left[\\begin{matrix}0 & \\frac{\\frac{d}{d t} a{\\left(t \\right)}}{a{\\left(t \\right)}} & 0 & 0\\\\\\frac{\\frac{d}{d t} a{\\left(t \\right)}}{a{\\left(t \\right)}} & 0 & 0 & 0\\\\0 & 0 & - \\chi & 0\\\\0 & 0 & 0 & - \\chi \\sin^{2}{\\left(\\theta \\right)}\\end{matrix}\\right] & \\left[\\begin{matrix}0 & 0 & \\frac{\\frac{d}{d t} a{\\left(t \\right)}}{a{\\left(t \\right)}} & 0\\\\0 & 0 & \\frac{1}{\\chi} & 0\\\\\\frac{\\frac{d}{d t} a{\\left(t \\right)}}{a{\\left(t \\right)}} & \\frac{1}{\\chi} & 0 & 0\\\\0 & 0 & 0 & - \\sin{\\left(\\theta \\right)} \\cos{\\left(\\theta \\right)}\\end{matrix}\\right] & \\left[\\begin{matrix}0 & 0 & 0 & \\frac{\\frac{d}{d t} a{\\left(t \\right)}}{a{\\left(t \\right)}}\\\\0 & 0 & 0 & \\frac{1}{\\chi}\\\\0 & 0 & 0 & \\frac{\\cos{\\left(\\theta \\right)}}{\\sin{\\left(\\theta \\right)}}\\\\\\frac{\\frac{d}{d t} a{\\left(t \\right)}}{a{\\left(t \\right)}} & \\frac{1}{\\chi} & \\frac{\\cos{\\left(\\theta \\right)}}{\\sin{\\left(\\theta \\right)}} & 0\\end{matrix}\\right]\\end{matrix}\\right]$"
      ],
      "text/plain": [
       "⎡                                                                                                                                               ⎡                     d    \n",
       "⎢                                                                ⎡          d                       ⎤  ⎡             d                       ⎤  ⎢                     ──(a(\n",
       "⎢                                                                ⎢          ──(a(t))                ⎥  ⎢             ──(a(t))                ⎥  ⎢                     dt   \n",
       "⎢⎡0        0               0                     0            ⎤  ⎢          dt                      ⎥  ⎢             dt                      ⎥  ⎢   0      0    0     ─────\n",
       "⎢⎢                                                            ⎥  ⎢   0      ────────  0       0     ⎥  ⎢   0      0  ────────        0       ⎥  ⎢                       a(t\n",
       "⎢⎢        d                                                   ⎥  ⎢            a(t)                  ⎥  ⎢               a(t)                  ⎥  ⎢                          \n",
       "⎢⎢0  a(t)⋅──(a(t))         0                     0            ⎥  ⎢                                  ⎥  ⎢                                     ⎥  ⎢                        1 \n",
       "⎢⎢        dt                                                  ⎥  ⎢d                                 ⎥  ⎢                1                    ⎥  ⎢   0      0    0        ─ \n",
       "⎢⎢                                                            ⎥  ⎢──(a(t))                          ⎥  ⎢   0      0     ─            0       ⎥  ⎢                        χ \n",
       "⎢⎢                   2      d                                 ⎥  ⎢dt                                ⎥  ⎢                χ                    ⎥  ⎢                          \n",
       "⎢⎢0        0        χ ⋅a(t)⋅──(a(t))             0            ⎥  ⎢────────     0      0       0     ⎥  ⎢                                     ⎥  ⎢                      cos(\n",
       "⎢⎢                          dt                                ⎥  ⎢  a(t)                            ⎥  ⎢d                                    ⎥  ⎢   0      0    0      ────\n",
       "⎢⎢                                                            ⎥  ⎢                                  ⎥  ⎢──(a(t))                             ⎥  ⎢                      sin(\n",
       "⎢⎢                                     2         2    d       ⎥  ⎢   0         0      -χ      0     ⎥  ⎢dt        1                          ⎥  ⎢                          \n",
       "⎢⎢0        0               0          χ ⋅a(t)⋅sin (θ)⋅──(a(t))⎥  ⎢                                  ⎥  ⎢────────  ─     0            0       ⎥  ⎢d                         \n",
       "⎢⎣                                                    dt      ⎦  ⎢                              2   ⎥  ⎢  a(t)    χ                          ⎥  ⎢──(a(t))                  \n",
       "⎢                                                                ⎣   0         0      0   -χ⋅sin (θ)⎦  ⎢                                     ⎥  ⎢dt        1  cos(θ)       \n",
       "⎢                                                                                                      ⎣   0      0     0      -sin(θ)⋅cos(θ)⎦  ⎢────────  ─  ──────     0 \n",
       "⎣                                                                                                                                               ⎣  a(t)    χ  sin(θ)       \n",
       "\n",
       "   ⎤⎤\n",
       "t))⎥⎥\n",
       "   ⎥⎥\n",
       "───⎥⎥\n",
       ")  ⎥⎥\n",
       "   ⎥⎥\n",
       "   ⎥⎥\n",
       "   ⎥⎥\n",
       "   ⎥⎥\n",
       "   ⎥⎥\n",
       "θ) ⎥⎥\n",
       "── ⎥⎥\n",
       "θ) ⎥⎥\n",
       "   ⎥⎥\n",
       "   ⎥⎥\n",
       "   ⎥⎥\n",
       "   ⎥⎥\n",
       "   ⎥⎥\n",
       "   ⎦⎦"
      ]
     },
     "execution_count": 7,
     "metadata": {},
     "output_type": "execute_result"
    }
   ],
   "source": [
    "ChristoffelSymbols.from_metric(flat_metric).tensor()"
   ]
  },
  {
   "cell_type": "code",
   "execution_count": 10,
   "metadata": {},
   "outputs": [
    {
     "data": {
      "image/png": "[encoded data removed]",
      "text/latex": [
       "$\\displaystyle \\frac{3.0 \\left(\\frac{d}{d t} a{\\left(t \\right)}\\right)^{2}}{a^{2}{\\left(t \\right)}}$"
      ],
      "text/plain": [
       "              2\n",
       "    ⎛d       ⎞ \n",
       "3.0⋅⎜──(a(t))⎟ \n",
       "    ⎝dt      ⎠ \n",
       "───────────────\n",
       "      2        \n",
       "     a (t)     "
      ]
     },
     "execution_count": 10,
     "metadata": {},
     "output_type": "execute_result"
    }
   ],
   "source": [
    "simplify(EinsteinTensor.from_metric(flat_metric).tensor()[0,0])"
   ]
  },
  {
   "cell_type": "code",
   "execution_count": 11,
   "metadata": {},
   "outputs": [
    {
     "data": {
      "image/png": "[encoded data removed]",
      "text/latex": [
       "$\\displaystyle \\frac{3.0 \\left(R^{2} \\left(\\frac{d}{d t} a{\\left(t \\right)}\\right)^{2} + 1\\right)}{R^{2} a^{2}{\\left(t \\right)}}$"
      ],
      "text/plain": [
       "    ⎛             2    ⎞\n",
       "    ⎜ 2 ⎛d       ⎞     ⎟\n",
       "3.0⋅⎜R ⋅⎜──(a(t))⎟  + 1⎟\n",
       "    ⎝   ⎝dt      ⎠     ⎠\n",
       "────────────────────────\n",
       "         2  2           \n",
       "        R ⋅a (t)        "
      ]
     },
     "execution_count": 11,
     "metadata": {},
     "output_type": "execute_result"
    }
   ],
   "source": [
    "simplify(EinsteinTensor.from_metric(closed_metric).tensor()[0,0])"
   ]
  },
  {
   "cell_type": "code",
   "execution_count": 9,
   "metadata": {},
   "outputs": [
    {
     "data": {
      "image/png": "[encoded data removed]",
      "text/latex": [
       "$\\displaystyle \\frac{3.0 \\left(R^{2} \\left(\\frac{d}{d t} a{\\left(t \\right)}\\right)^{2} - 1\\right)}{R^{2} a^{2}{\\left(t \\right)}}$"
      ],
      "text/plain": [
       "    ⎛             2    ⎞\n",
       "    ⎜ 2 ⎛d       ⎞     ⎟\n",
       "3.0⋅⎜R ⋅⎜──(a(t))⎟  - 1⎟\n",
       "    ⎝   ⎝dt      ⎠     ⎠\n",
       "────────────────────────\n",
       "         2  2           \n",
       "        R ⋅a (t)        "
      ]
     },
     "execution_count": 9,
     "metadata": {},
     "output_type": "execute_result"
    }
   ],
   "source": [
    "simplify(EinsteinTensor.from_metric(open_metric).tensor()[0,0])"
   ]
  },
  {
   "cell_type": "code",
   "execution_count": 5,
   "metadata": {},
   "outputs": [
    {
     "data": {
      "image/png": "[encoded data removed]",
      "text/latex": [
       "$\\displaystyle - \\frac{2.0 \\frac{d^{2}}{d t^{2}} a{\\left(t \\right)}}{a{\\left(t \\right)}} - \\frac{1.0 \\left(\\frac{d}{d t} a{\\left(t \\right)}\\right)^{2}}{a^{2}{\\left(t \\right)}} + \\frac{1.0}{R^{2} a^{2}{\\left(t \\right)}}$"
      ],
      "text/plain": [
       "        2                               \n",
       "       d                    2           \n",
       "  2.0⋅───(a(t))   ⎛d       ⎞            \n",
       "        2         ⎜──(a(t))⎟            \n",
       "      dt          ⎝dt      ⎠      1.0   \n",
       "- ───────────── - ─────────── + ────────\n",
       "       a(t)           2          2  2   \n",
       "                     a (t)      R ⋅a (t)"
      ]
     },
     "execution_count": 5,
     "metadata": {},
     "output_type": "execute_result"
    }
   ],
   "source": [
    "simplify(EinsteinTensor.from_metric(open_metric).tensor()[1,1]/open_metric.tensor()[1, 1])"
   ]
  },
  {
   "cell_type": "code",
   "execution_count": 12,
   "metadata": {
    "scrolled": true
   },
   "outputs": [
    {
     "data": {
      "image/png": "[encoded data removed]",
      "text/latex": [
       "$\\displaystyle \\frac{- 2.0 a{\\left(t \\right)} \\frac{d^{2}}{d t^{2}} a{\\left(t \\right)} - 1.0 \\left(\\frac{d}{d t} a{\\left(t \\right)}\\right)^{2}}{a^{2}{\\left(t \\right)}}$"
      ],
      "text/plain": [
       "             2                   2\n",
       "            d          ⎛d       ⎞ \n",
       "- 2.0⋅a(t)⋅───(a(t)) - ⎜──(a(t))⎟ \n",
       "             2         ⎝dt      ⎠ \n",
       "           dt                     \n",
       "──────────────────────────────────\n",
       "               2                  \n",
       "              a (t)               "
      ]
     },
     "execution_count": 12,
     "metadata": {},
     "output_type": "execute_result"
    }
   ],
   "source": [
    "simplify(EinsteinTensor.from_metric(flat_metric).tensor()[1,1]/flat_metric.tensor()[1, 1])"
   ]
  },
  {
   "cell_type": "code",
   "execution_count": 7,
   "metadata": {},
   "outputs": [
    {
     "data": {
      "image/png": "[encoded data removed]",
      "text/latex": [
       "$\\displaystyle - \\frac{2.0 \\frac{d^{2}}{d t^{2}} a{\\left(t \\right)}}{a{\\left(t \\right)}} - \\frac{1.0 \\left(\\frac{d}{d t} a{\\left(t \\right)}\\right)^{2}}{a^{2}{\\left(t \\right)}} - \\frac{1.0}{R^{2} a^{2}{\\left(t \\right)}}$"
      ],
      "text/plain": [
       "        2                               \n",
       "       d                    2           \n",
       "  2.0⋅───(a(t))   ⎛d       ⎞            \n",
       "        2         ⎜──(a(t))⎟            \n",
       "      dt          ⎝dt      ⎠       1    \n",
       "- ───────────── - ─────────── - ────────\n",
       "       a(t)           2          2  2   \n",
       "                     a (t)      R ⋅a (t)"
      ]
     },
     "execution_count": 7,
     "metadata": {},
     "output_type": "execute_result"
    }
   ],
   "source": [
    "simplify(EinsteinTensor.from_metric(closed_metric).tensor()[1,1]/closed_metric.tensor()[1, 1])"
   ]
  },
  {
   "cell_type": "code",
   "execution_count": 8,
   "metadata": {},
   "outputs": [
    {
     "data": {
      "image/png": "[encoded data removed]",
      "text/latex": [
       "$\\displaystyle \\frac{3.0 \\left(R^{2} \\left(\\frac{d}{d t} a{\\left(t \\right)}\\right)^{2} + 1\\right)}{R^{2} a^{2}{\\left(t \\right)}}$"
      ],
      "text/plain": [
       "    ⎛             2    ⎞\n",
       "    ⎜ 2 ⎛d       ⎞     ⎟\n",
       "3.0⋅⎜R ⋅⎜──(a(t))⎟  + 1⎟\n",
       "    ⎝   ⎝dt      ⎠     ⎠\n",
       "────────────────────────\n",
       "         2  2           \n",
       "        R ⋅a (t)        "
      ]
     },
     "execution_count": 8,
     "metadata": {},
     "output_type": "execute_result"
    }
   ],
   "source": [
    "simplify(EinsteinTensor.from_metric(closed_metric).tensor()[0,0])"
   ]
  },
  {
   "cell_type": "markdown",
   "metadata": {},
   "source": [
    "### The energy momentum tensor\n",
    "\n",
    "\n",
    "The energy momentum tensor $T_{\\mu\\nu}$ is the flux of the 4-momentum $p_{\\mu}$. In a homogeneous and isotropic Universe it must have only a diagonal form, with the space components all being equal. In the lecture course on GR, you have encountered the energy momentum tensor of ideal fluid, which is exactly what we will use for the energy momentum tensor in the Einstein field equations for the Universe. The ideal fluid is described by its density $\\rho$ and pressure $p$. The energy momentum tensor is given by\n",
    "\n",
    "\\begin{equation}\n",
    "T_{\\mu \\nu} = (\\rho c^2 + p) u_{\\mu} u_{\\nu} + p c^2 g_{\\mu\\nu}\n",
    "\\end{equation}\n",
    "\n",
    "For fundamental observer which move with the mean motion of the Universe, $u_{\\mu}=[c, 0, 0, 0]$, because the three spatial coordinates do not change with time, and the derivative of the first coordinate $ct$ with respect to proper time is just $c$. For the zero zero component,\n",
    "\n",
    "\\begin{eqnarray}\n",
    "T_{00} &=& \\rho(t) c^4 \\\\\n",
    "T_{ij}  &=& p(t) c^2 a^2(t) \\gamma_{ij}\n",
    "\\end{eqnarray}\n",
    "\n",
    "Equating the $00$ component of the Einstein's field equations, we get the first of the Friedmann equations,\n",
    "\\begin{equation}\n",
    "\\left[ \\left(\\frac{\\dot{a}}{a}\\right)^2 + \\frac{kc^2}{a^2} \\right] = \\frac{8\\pi G \\rho}{3}\n",
    "\\end{equation}\n",
    "\n",
    "and the second equation corresponds to the $ij$ components\n",
    "\\begin{equation}\n",
    "- \\left[ \\frac{2\\ddot{a}}{a} + \\left(\\frac{\\dot{a}}{a}\\right)^2 + \\frac{k c^2}{a^2} \\right] = 8 \\pi G \\frac{p}{c^2}\n",
    "\\end{equation}\n",
    "\n",
    "The above two equation can be combined to obtain\n",
    "\n",
    "\\begin{equation}\n",
    "\\frac{\\ddot{a}}{a} = - \\frac{4\\pi G}{3} \\left(\\rho + \\frac{3 p}{c^2}\\right) \n",
    "\\end{equation}\n",
    "\n",
    "This shows that for energy density in the Universe with a non-negative pressure, the scale factor $a(t)$ cannot have a positive acceleration.\n",
    "\n",
    "The two equations given above also imply the following intuitive conservation equation if you multiply the first equation by $a^3$ and then differentiating and getting rid of the second derivative term using the second equation:\n",
    "\n",
    "\\begin{equation}\n",
    "\\frac{d}{dt}\\left[ a^3 \\rho c^2 \\right] + p \\frac{d}{dt}\\left[ a^3 \\right] = 0\n",
    "\\end{equation}"
   ]
  },
  {
   "cell_type": "markdown",
   "metadata": {},
   "source": [
    "<div class=\"alert alert-info \">\n",
    "    \n",
    "Exercise:\n",
    "\n",
    "- Prove the equality given above using the Friedmann equations.\n",
    "- Show that this equality also implies\n",
    "\\begin{equation}\n",
    "\\frac{d\\rho}{dt} + 3 \\frac{\\dot{a}}{a} \\left(\\rho + \\frac{p}{c^2}\\right) = 0\n",
    "\\end{equation}\n",
    "    \n",
    "</div>\n",
    "\n",
    "Let us take a look at the first Friedmann equation to compute the evolution of the scale factor of the Universe.\n",
    "\n",
    "\\begin{equation}\n",
    "\\left[ \\left(\\frac{\\dot{a}}{a}\\right)^2 + \\frac{kc^2}{a^2} \\right] = \\frac{8\\pi G \\rho}{3}\n",
    "\\end{equation}\n",
    "\n",
    "What are the initial conditions for this problem. Since the scale factor is a growth factor we are free to choose the normalization. Let us work with the condition that $a(t)=1$ today. The factor ${\\dot{a}}/{a}$ is nothing but the Hubble Lemaitre constant today whose value can be measured with observations. Thus the value of Hubble Lemaitre constant $H_0$ is our second initial condition. This along with the behaviour of energy density with $a$ should allow us to integrate the above equation. \n",
    "\n",
    "Before we solve the Friedmann equation, notice that for the Universe to be spatially flat, the density of the Universe today should be equal to a very special value\n",
    "\\begin{equation}\n",
    "\\rho_{\\rm crit} = \\frac{3H_0^2}{8\\pi G}\n",
    "\\end{equation}\n",
    "\n",
    "\\begin{eqnarray}\n",
    "\\left(\\frac{\\dot{a}}{a}\\right)^2 &=& H_0^2 \\left[ \\frac{\\rho}{\\rho_{\\rm crit}} - \\frac{kc^2}{a^2H_0^2} \\right]  \n",
    "\\end{eqnarray}\n",
    "Substituting $\\dot{a}/a = H_0$ today, we find that. \n",
    "\\begin{eqnarray}\n",
    "1 &=& \\left[ \\frac{\\rho_0}{\\rho_{\\rm crit}} - \\frac{kc^2}{H_0^2} \\right] \\\\\n",
    "-\\frac{kc^2}{H_0^2} &=& \\left[ 1 - \\frac{\\rho_0}{\\rho_{\\rm crit}} \\right] : =  \\Omega_{\\rm k, 0}\n",
    "\\end{eqnarray}\n",
    "If the Universe is denser than $\\rho_{\\rm crit}$ today, then it has a closed geometry $k>0$, while a Universe which is less dense than the critical density will have an open geometry with $k<0$. Thus we can simplify the Friedmann equation to\n",
    "\n",
    "\\begin{eqnarray}\n",
    "\\left(\\frac{\\dot{a}}{a}\\right)^2 &=& H_0^2 \\left[ \\frac{\\rho}{\\rho_{\\rm crit}} + \\frac{\\Omega_{\\rm k, 0}}{a^2} \\right]  \n",
    "\\end{eqnarray}"
   ]
  },
  {
   "cell_type": "markdown",
   "metadata": {},
   "source": [
    "Now we need to figure out how the density of the Universe changes as a function of time. Let us consider a few cases to understand the evolution of these components in a non-static Universe. Let us first consider just matter. For matter the pressure comes from velocities. However given that the velocities of matter are non-relativistic, the pressure is negligible compared to the energy density. Thus for matter, we have $p << \\rho c^2$, and it can be ignored. The equation of energy conservation then implies\n",
    "\n",
    "\\begin{equation}\n",
    "\\frac{d}{dt}\\left[ a^3 \\rho c^2 \\right] = 0\n",
    "\\end{equation}\n",
    "\n",
    "Thus the matter density $\\rho_{\\rm m} \\propto a^{-3}$, the density decreases if the Universe expands, and increases if the Universe contracts. This is consistent with the increase in the total volume of the Universe $\\propto a^3$ due to the increase in scale factor, and thus the density decreases by the same factor $a^3$ if there is conservation of matter in a comoving volume.\n",
    "\n",
    "What about another form of energy density in the Universe, that of radiation. One can show that the photon energy density is related to the pressure such that\n",
    "\n",
    "\\begin{equation}\n",
    "p = \\frac{1}{3} \\rho c^2\n",
    "\\end{equation}\n",
    "\n",
    "Plugging this into the pressure density equation, we find\n",
    "\\begin{equation}\n",
    "\\rho_{\\rm rad} \\propto a^{-4}\n",
    "\\end{equation}\n",
    "\n",
    "The energy density of radiation changes due to the change in volume as well as the change in energy that a photon undergoes when the Universe expands or contracts.\n",
    "\n",
    "<div class=\"alert alert-info \">\n",
    "    \n",
    "Exercise:\n",
    "\n",
    "- Find how the density of an ideal fluid with pressure $p =w \\rho c^2$ evolves in a non-static Universe as a function of the scale factor.\n",
    "    \n",
    "</div>\n",
    "\n",
    "The real Universe can have fluids of different kinds all together thus the combined Friedmann equation looks like\n",
    "\n",
    "\\begin{eqnarray}\n",
    "\\left(\\frac{\\dot{a}}{a}\\right)^2 &=& H_0^2 \\left[ \\frac{\\rho_m}{\\rho_{\\rm crit}} + \\frac{\\rho_{\\rm rad}}{\\rho_{\\rm crit}} + \\frac{\\rho_{\\rm w}}{\\rho_{\\rm crit}} +  \\frac{\\Omega_k}{a^2} \\right]  = H_0^2 E^2(a)\n",
    "\\end{eqnarray}\n",
    "\n",
    "Analogous to $\\Omega_{\\rm k}$ we can define $\\Omega_{\\rm x, 0} = \\rho_{\\rm x, 0}/\\rho_{\\rm crit}$ which finally reduces the equation to a much more manageable form\n",
    "\\begin{eqnarray}\n",
    "\\left(\\frac{\\dot{a}}{a}\\right)^2 &=& H_0^2 \\left[ \\Omega_{\\rm m, 0} a^{-3} + \\Omega_{\\rm rad, 0} a^{-4} + \\Omega_{\\rm w, 0}a ^{-3(1+w)} + \\Omega_k a^{-2} \\right]  = H_0^2 E^2(a)\n",
    "\\end{eqnarray}\n",
    "where $\\Omega_{\\rm k} = 1 - \\Omega_{\\rm m} - \\Omega_{\\rm rad} - \\Omega_{\\rm w, 0}$. Current observations indicate that a special fluid called dark energy with an equation of state $w=-1$ is required to be present in the Universe. Thus we will assume that the Universe has these combinations of fluid (matter, radiation and $\\Lambda$).\n",
    "\n",
    "\n",
    "### Matter dominated Universe\n",
    "First let us consider a Universe just made up of matter. In this case the Friedmann equation is very simple\n",
    "\\begin{eqnarray}\n",
    "\\left(\\frac{\\dot{a}}{a}\\right) &=& H_0 \\left[\\Omega_{\\rm m, 0}a^{-3} +  (1-\\Omega_{\\rm m,0}) a^{-2} \\right]^{1/2} \n",
    "\\end{eqnarray}\n",
    "In such a Universe, we can obtain $\\dot{a}=0$, if and only if\n",
    "\\begin{equation}\n",
    "\\Omega_{\\rm m, 0}a^{-3} +  (1-\\Omega_{\\rm m,0}) a^{-2} = 0\n",
    "\\end{equation}\n",
    "which gives a special epoch\n",
    "\\begin{equation}\n",
    "a = \\frac{\\Omega_{\\rm m, 0}}{(\\Omega_{\\rm m,0}-1)}\n",
    "\\end{equation}\n",
    "Notice that this has a non-negative scale factor only if $\\Omega_{\\rm m,0}>1$. Thus if the Universe has $\\Omega_{\\rm m}>1$ which corresponds to $\\Omega_{\\rm k}<0$, the scale factor has a maximum. Given that the Universe is expanding today it means that the Universe will stop its expansion at a finite future, and given that the value of $\\ddot{a}<0$, such a Universe will start contracting.\n",
    "\n",
    "For $\\Omega_{\\rm m, 0}=1$, the Universe keeps on increasing at an ever slow pace and only asymptotically reaches $\\dot{a}=0$, while for a $\\Omega_{\\rm m,0}<1$, the Universe keeps on expanding but never reaches a scale factor where the expansion halts.\n",
    "\n",
    "Let us consider one of these special cases: $\\Omega_{\\rm m,0}=1$.  In this case, we obtain\n",
    "\\begin{eqnarray}\n",
    "\\left(\\frac{\\dot{a}}{a}\\right) &=& H_0 a^{-3/2}  \\\\\n",
    "\\int_{a}^{1} a^{1/2} da &=& \\int_{t}^{t_0} H_0 dt \\\\\n",
    "\\left.\\frac{2a^{3/2}}{3}\\right|_{a}^{1} &=& H_0(t_0-t) \\\\\n",
    "a(t) &=& \\left[1 - \\frac{3}{2}H_0 (t_0-t)\\right]^{2/3}\n",
    "\\end{eqnarray}\n",
    "In this model the current age of the Universe $t_0$ is related to the time at which $a=0$ as\n",
    "\\begin{eqnarray}\n",
    "t_0-t = \\frac{2}{3H_0}\n",
    "\\end{eqnarray}\n",
    "\n",
    "### Radiation dominated Universe\n",
    "\n",
    "In the early Universe when it was small, radiation is expected to dominate the energy density of the Universe as it increases quicker than $\\rho_{\\rm m}$ as $a\\rightarrow 0$.  In this case the Friedmann equation looks like\n",
    "\\begin{eqnarray}\n",
    "\\left(\\frac{\\dot{a}}{a}\\right) &=& H_0 \\Omega_{r, 0} a^{-2}  \\\\\n",
    "\\int a da &=& \\int H_0 \\Omega_{r, 0} dt \\\\\n",
    "\\frac{a^2}{2} &=& H_0 \\Omega_{r, 0} t  \\\\\n",
    "a(t) &=& [2 H_0 \\Omega_{r, 0} t]^{1/2}\n",
    "\\end{eqnarray}\n",
    "\n",
    "### Lambda dominated Universe\n",
    "\n",
    "On the other hand, when $a>>1$, we expect the Universe to be dominated by $\\Omega_{\\rm \\Lambda}$. The Friedmann equation for that case looks like\n",
    "\\begin{eqnarray}\n",
    "\\left(\\frac{\\dot{a}}{a}\\right) &=& H_0 \\Omega_{\\Lambda, 0} \\\\\n",
    "\\end{eqnarray}\n",
    "and we obtain\n",
    "\\begin{eqnarray}\n",
    "a(t) = \\exp\\left[ H_0 \\Omega_{\\Lambda, 0} (t-t_0) \\right] \\\\\n",
    "\\end{eqnarray}\n",
    "and the Universe will reach a state of exponential expansion.\n",
    "\n",
    "From all these simple homogeneous and isotropic models, we can work out the expansion history of the Universe, its age, and its fate by making some simple measurements of the energy density of various constituents in the Universe and the Hubble Lemaitre constant which measures the rate of expansion of the Universe today! A number of cosmology experiments use these simple equations to relate scale factor and time to help us understand the history and fate of the Universe.\n",
    "\n",
    "\n",
    "## Horizons in the Universe\n",
    "\n",
    "Because light travels at a finite speed in the Universe, it can only travel a finite distance from a source given the age of the Universe today. Let us compute what is the comoving distance light would have travelled from $a=0$ to today $a=1$.\n",
    "\n",
    "\\begin{eqnarray}\n",
    "\\chi_{\\rm horizon} &=& \\int_0^{1} \\frac{cdt}{a(t)} \\\\\n",
    "&=& \\int_0^{1} \\frac{cda}{\\dot{a}a(t)} \\\\\n",
    "&=& \\int_0^1 \\frac{cda}{\\frac{\\dot{a}}{a} a^2(t)} \\\\\n",
    "&=& \\int_0^1 \\frac{cda}{H_0 E(a) a^2(t)}\n",
    "\\end{eqnarray}\n",
    "\n",
    "This is a finite quantity. Given causality, anything in the Universe can not be affected by object beyond its horizon."
   ]
  },
  {
   "cell_type": "code",
   "execution_count": 2,
   "metadata": {},
   "outputs": [],
   "source": [
    "import numpy as np\n",
    "from scipy.integrate import quad\n",
    "from scipy import optimize\n",
    "\n",
    "\n",
    "class cosmology:\n",
    "    \n",
    "    def __init__(self, Omega_m, Omega_r, Omega_l, H0):\n",
    "        self.Omega_m = Omega_m\n",
    "        self.Omega_r = Omega_r\n",
    "        self.Omega_l = Omega_l\n",
    "        self.H0 = H0\n",
    "        \n",
    "        # Define the curvature based on the Friedmann equation evaluated at t=today.\n",
    "        self.Omega_k = 1 - Omega_m - Omega_r - Omega_l\n",
    "        \n",
    "        self.a_max = self.max_scale_factor()\n",
    "        print(self.a_max, \"Maximum scale factor\")\n",
    "        \n",
    "    def zofa(self, a):\n",
    "        return 1./a - 1.\n",
    "\n",
    "    def aofz(self, z):\n",
    "        return 1/(1.+z)\n",
    "        \n",
    "    # Define the RHS of the Friedmann equation\n",
    "    def Esqofa(self, a):\n",
    "        return (self.Omega_m*a**-3 + self.Omega_r*a**-4 + self.Omega_l + self.Omega_k*a**-2 )\n",
    "    \n",
    "    # Define derivative of the RHS of the Friedmann equation\n",
    "    def Esqprimeofa(self, a):\n",
    "        return (-3.*self.Omega_m*a**-4 - 4.*self.Omega_r*a**-5 - 2.*self.Omega_k*a**-3 )  \n",
    "    \n",
    "    # Define the RHS of the Friedmann equation\n",
    "    def Eofa(self, a):\n",
    "        return (self.Omega_m*a**-3 + self.Omega_r*a**-4 + self.Omega_l + self.Omega_k*a**-2 )**0.5\n",
    "\n",
    "    # Define derivative of the RHS of the Friedmann equation\n",
    "    def Eprimeofa(self, a):\n",
    "        return (-3*self.Omega_m*a**-4 - 4*self.Omega_r*a**-5 - 2*self.Omega_k*a**-3 )/(self.Omega_m*a**-3 + self.Omega_r*a**-4 + self.Omega_l + self.Omega_k*a**-2 )**0.5\n",
    "\n",
    "    \n",
    "    # Define the time given a scale factor (time will be returned in units of 1/H0)\n",
    "    def compute_time_given_scale(self, a, contracting=False):\n",
    "        \n",
    "        # Integrate the function \\int da/a/E(a) = \\int d(t/(1/H0))\n",
    "        def integrand(ap):\n",
    "            return 1/ap/self.Eofa(ap)\n",
    "        \n",
    "        if a>self.a_max:\n",
    "            return np.nan\n",
    "        \n",
    "        answer = 0\n",
    "        if contracting:\n",
    "            exp_soln, error = quad(integrand, 1, self.a_max)\n",
    "            cont_soln, error2 = quad(integrand, self.a_max, a)\n",
    "            answer = exp_soln - cont_soln\n",
    "        else:\n",
    "            answer, error = quad(integrand, 1, a)\n",
    "            \n",
    "        return answer\n",
    "    \n",
    "    # Compute maximum scale factor if the Universe is closed based on the zero of Eofa\n",
    "    def max_scale_factor(self):\n",
    "        if self.Omega_k>=0:\n",
    "            return np.inf\n",
    "        \n",
    "        # Compute the zero of the expansion factor\n",
    "        sol = optimize.root_scalar(self.Esqofa, x0=1.0, fprime=self.Esqprimeofa, method='newton')    \n",
    "        \n",
    "        if sol.flag == \"convergence error\":\n",
    "            sol.root = np.inf\n",
    "            \n",
    "        return sol.root\n",
    "    \n",
    "\n",
    "    # Exercise:\n",
    "    # Write code to compute coordinate distance $\\chi$ as a function of the scale factor\n",
    "    # Integrand is: \\int c dt/a(t) = \\int dchi\n",
    "    # Integrand is: \\int c dt/a(t) = \\int c/H0 da/E(a)/a^2(t)    \n",
    "    # Forget about the contracting case for now (but do it if you can!).\n",
    "    \n",
    "    # Write code to compute angular diameter distance as a function of the scale factor\n",
    "    # f(chi) * a(t)\n",
    "    \n",
    "    # Write code to compute the luminosity distance as a function of the scale factor\n",
    "    # f(chi) / a(t)\n",
    "\n",
    "    #\n",
    "    # Make plots of dL(z), dAng(z) for z range between 0.0 to 5.0"
   ]
  },
  {
   "cell_type": "code",
   "execution_count": 166,
   "metadata": {},
   "outputs": [
    {
     "name": "stdout",
     "output_type": "stream",
     "text": [
      "inf Maximum scale factor\n",
      "inf Maximum scale factor\n",
      "1.4999999999999998 Maximum scale factor\n"
     ]
    }
   ],
   "source": [
    "flat_c = cosmology(1.0, 0.0, 0.0, 100.0)\n",
    "open_c = cosmology(0.1, 0.0, 0.0, 100.0)\n",
    "closed_c = cosmology(3.0, 0.0, 0.0, 100.0)"
   ]
  },
  {
   "cell_type": "code",
   "execution_count": 167,
   "metadata": {},
   "outputs": [
    {
     "name": "stdout",
     "output_type": "stream",
     "text": [
      "[0.01       0.01029903 0.01059806 ... 2.99940194 2.99970097 3.        ]\n"
     ]
    }
   ],
   "source": [
    "# Compute scale factor versus time\n",
    "scale_arr = np.linspace(1e-2, 3., 10000)\n",
    "print(scale_arr)\n",
    "\n",
    "time_arr_flat = scale_arr*0.0\n",
    "time_arr_closed = scale_arr*0.0\n",
    "time_arr_closed_cont = scale_arr*0.0\n",
    "time_arr_open = scale_arr*0.0\n",
    "for ii in range(scale_arr.size):\n",
    "    time_arr_flat[ii] = flat_c.compute_time_given_scale(scale_arr[ii])\n",
    "    time_arr_closed[ii] = closed_c.compute_time_given_scale(scale_arr[ii])\n",
    "    time_arr_closed_cont[ii] = closed_c.compute_time_given_scale(scale_arr[ii], contracting=True)\n",
    "    time_arr_open[ii] = open_c.compute_time_given_scale(scale_arr[ii])"
   ]
  },
  {
   "cell_type": "code",
   "execution_count": 168,
   "metadata": {},
   "outputs": [
    {
     "name": "stdout",
     "output_type": "stream",
     "text": [
      "Populating the interactive namespace from numpy and matplotlib\n",
      "Populating the interactive namespace from numpy and matplotlib\n"
     ]
    }
   ],
   "source": [
    "import pylab as pl\n",
    "%pylab inline\n",
    "\n",
    "conf = %config InlineBackend.rc\n",
    "conf[\"figure.figsize\"] = (6, 6)\n",
    "conf['savefig.dpi']=100\n",
    "conf['font.serif'] = \"Computer Modern\"\n",
    "conf['font.sans-serif'] = \"Computer Modern\"\n",
    "conf['text.usetex']=True\n",
    "\n",
    "width = 600\n",
    "%config InlineBackend.rc\n",
    "%pylab inline"
   ]
  },
  {
   "cell_type": "code",
   "execution_count": 169,
   "metadata": {},
   "outputs": [
    {
     "data": {
      "text/plain": [
       "Text(-0.15, 1.5, 'today')"
      ]
     },
     "execution_count": 169,
     "metadata": {},
     "output_type": "execute_result"
    },
    {
     "data": {
      "image/png": "[encoded data removed]",
      "text/plain": [
       "<Figure size 432x432 with 1 Axes>"
      ]
     },
     "metadata": {
      "needs_background": "light"
     },
     "output_type": "display_data"
    }
   ],
   "source": [
    "ax = pl.subplot(111)\n",
    "\n",
    "idx = ~(time_arr_closed==0)\n",
    "ax.plot(time_arr_closed[idx], scale_arr[idx], label=\"closed\")\n",
    "ax.plot(time_arr_closed_cont[idx], scale_arr[idx], label=\"closed\")\n",
    "ax.plot(time_arr_open, scale_arr, label=\"open\")\n",
    "ax.plot(time_arr_flat, scale_arr, label=\"flat\")\n",
    "ax.set_xlabel(r\"(t - $t_{\\rm today})$ [1/$H_0$]\")\n",
    "ax.set_ylabel(\"Scale factor a\")\n",
    "ax.axvline(0.0, color=\"k\", alpha=0.6)\n",
    "ax.legend()\n",
    "ax.set_ylim(0.0, 3.0)\n",
    "ax.text(-0.15, 1.5, \"today\", rotation=90)"
   ]
  },
  {
   "cell_type": "markdown",
   "metadata": {},
   "source": [
    "<div class=\"alert alert-info \">\n",
    "    \n",
    "Exercise:\n",
    "\n",
    "- Complete the simple python code above to figure out how the luminosity distance, and the angular diameter distance change as a function of the scale factor.\n",
    "- Make plots of these distances as a function of the scale factor.\n",
    "- Use the above code to see how the scale factor of the Universe changes as a function of time for a Universe with $\\Omega_{\\rm m}=0.3, \\Omega_{\\rm r}=0.0$ and $\\Omega_{\\Lambda}=0.7$.\n",
    "\n",
    "</div>"
   ]
  },
  {
   "cell_type": "markdown",
   "metadata": {},
   "source": [
    "According to the cosmological observations today, we have $\\Omega_{\\rm m}=0.315$, $\\Omega_{\\rm \\Lambda}=0.685$, $\\Omega_{r}\\sim 10^{-4}$. Given that the density of these components are a function of the scale factor, the energy densities will change. Even though the radiation energy density is extremely small today, at early times when the scale factor was small, the constituents of the Universe will be entirely dominated by radiation. Thus the behaviour of the scale factor at different times depends upon the constituents.\n",
    "\n",
    "<div class=\"alert alert-info \">\n",
    "    \n",
    "Exercise:\n",
    "    \n",
    "Some questions to ponder:\n",
    "\n",
    "Does a closed Universe always mean that it will undergo a big crunch?\n",
    "Does a Universe with a $\\Lambda$ always mean that it will expand exponentially?\n",
    "    \n",
    "</div>"
   ]
  },
  {
   "cell_type": "code",
   "execution_count": 162,
   "metadata": {},
   "outputs": [
    {
     "data": {
      "text/plain": [
       "Text(0, 0.5, '$E^2(a)$')"
      ]
     },
     "execution_count": 162,
     "metadata": {},
     "output_type": "execute_result"
    },
    {
     "data": {
      "image/png": "[encoded data removed]",
      "text/plain": [
       "<Figure size 432x432 with 1 Axes>"
      ]
     },
     "metadata": {
      "needs_background": "light"
     },
     "output_type": "display_data"
    }
   ],
   "source": [
    "ax = pl.subplot(111)\n",
    "\n",
    "closed_c = cosmology(1.0, 0.1, 1.0, 100.0)\n",
    "\n",
    "a = np.linspace(1.0, 10, 100000)\n",
    "eofa = closed_c.Esqofa(a)\n",
    "\n",
    "ax.plot(a, eofa)\n",
    "ax.set_ylim(-1, 1)\n",
    "ax.axhline(0)\n",
    "ax.set_xlabel(\"$a$\")\n",
    "ax.set_ylabel(\"$E^2(a)$\")"
   ]
  }
 ],
 "metadata": {
  "kernelspec": {
   "display_name": "Python 3 (ipykernel)",
   "language": "python",
   "name": "python3"
  },
  "language_info": {
   "codemirror_mode": {
    "name": "ipython",
    "version": 3
   },
   "file_extension": ".py",
   "mimetype": "text/x-python",
   "name": "python",
   "nbconvert_exporter": "python",
   "pygments_lexer": "ipython3",
   "version": "3.12.1"
  }
 },
 "nbformat": 4,
 "nbformat_minor": 4
}
