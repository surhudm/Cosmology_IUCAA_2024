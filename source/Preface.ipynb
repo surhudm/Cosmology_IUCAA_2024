{
 "cells": [
  {
   "cell_type": "markdown",
   "metadata": {},
   "source": [
    "# Preface"
   ]
  },
  {
   "cell_type": "markdown",
   "metadata": {},
   "source": [
    "This course in cosmology is designed for students in the IUCAA NCRA Graduate school in 2022-2023. Prior knowledge of General Relativity is assumed."
   ]
  },
  {
   "cell_type": "markdown",
   "metadata": {},
   "source": [
    "## Contact hours:\n",
    "\n",
    "Approximately 21 hours in total."
   ]
  },
  {
   "cell_type": "markdown",
   "metadata": {},
   "source": [
    "## Tutorials/Assignments\n",
    "\n",
    "Approximately 1 every two weeks"
   ]
  },
  {
   "cell_type": "markdown",
   "metadata": {},
   "source": [
    "## Texts of interest\n",
    "\n",
    "- Principles of Physical Cosmology by Jim Peebles\n",
    "- Introduction to Cosmology by Jayant Narlikar\n",
    "- [Cosmology Lecture Notes](https://heibox.uni-heidelberg.de/f/e1e57faba9a44eb88692/) by Matthias Bartelmann\n",
    "- [Cosmology Lecture Notes](https://preposterousuniverse.com/wp-content/uploads/grnotes-eight.pdf) by Sean Carroll\n",
    "- Galaxy Formation and Evolution by Houjun Mo, Frank van den Bosch and Simon White"
   ]
  },
  {
   "cell_type": "markdown",
   "metadata": {},
   "source": [
    "## Lecture notes: \n",
    "\n",
    "I will try to maintain python notebooks, but these notes will heavily borrow from the texts above. Therefore, there will be quite some overlap between the notes and some of these texts. Authoratative versions will always be found in the above texts. I will also use codes which will use functions from different publicly available python packages like `numpy`, `scipy`, `matplotlib` and my own code `aum`."
   ]
  },
  {
   "cell_type": "markdown",
   "metadata": {},
   "source": [
    "## Evaluation\n",
    "\n",
    "- Classroom engagement\n",
    "- Assignments\n",
    "- Final examination/Group coding project\n",
    "\n",
    "## Tutors\n",
    "\n",
    "Divya Rana (divyar$@$iucaa.in)"
   ]
  },
  {
   "cell_type": "markdown",
   "metadata": {},
   "source": [
    "## Purpose of the lecture notes\n",
    "\n",
    "The lecture notes are an evolving document and will aid as reference material. I will try to keep it updated via github (open github accounts if you do not already have them) and add all of the members as collaborators. If you find interesting things you would like to add to these lecture notes, then please fork the project and send pull requests to me for extra brownie points."
   ]
  }
 ],
 "metadata": {
  "kernelspec": {
   "display_name": "Python 3 (ipykernel)",
   "language": "python",
   "name": "python3"
  },
  "language_info": {
   "codemirror_mode": {
    "name": "ipython",
    "version": 3
   },
   "file_extension": ".py",
   "mimetype": "text/x-python",
   "name": "python",
   "nbconvert_exporter": "python",
   "pygments_lexer": "ipython3",
   "version": "3.10.8"
  }
 },
 "nbformat": 4,
 "nbformat_minor": 4
}
